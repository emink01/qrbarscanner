{
 "cells": [
  {
   "cell_type": "markdown",
   "id": "51268b3d-25e7-4082-aed2-36e3dda92063",
   "metadata": {},
   "source": [
    "<h1 style=font-size:3rem;color:orange;> Program za skeniranje Bar kodova</h1>\n"
   ]
  },
  {
   "cell_type": "markdown",
   "id": "fcfa0622-30b3-4974-867e-65a78718951e",
   "metadata": {},
   "source": [
    "<h1 style=font-size:2rem;color:black;> Uvod</h1>\n"
   ]
  },
  {
   "cell_type": "markdown",
   "id": "c003f1b3-c816-4041-a2a1-99c6d24fc414",
   "metadata": {},
   "source": [
    "## U današnje vrijeme, QR kodovi i bar kodovi su postali neizostavan dio svakodnevnog života. Koriste se u raznim industrijama, uključujući maloprodaju, logistiku, proizvodnju, zdravstvo i mnoge druge. Oni omogućavaju brzi i jednostavan pristup informacijama, smanjujući potrebu za ručnim unosom podataka i povećavajući efikasnost poslovnih procesa.\n",
    "## Aplikacija za skeniranje QR i Bar kodova, razvijena u Python programskom jeziku, omogućava korisnicima jednostavno i brzo skeniranje ovih kodova pomoću kamere njihovog uređaja. Ova aplikacija nakon detektovanja i dekodiranja kodova, snima sliku sa detektovanim kodom, bilježi datum i vrijeme skeniranja, te čuva sve relevantne informacije u tekstualnoj datoteci za dalju analizu ili pregled.\n",
    "\n"
   ]
  },
  {
   "cell_type": "markdown",
   "id": "0318603b-bda5-4b39-8585-16864da4db28",
   "metadata": {},
   "source": [
    "<h1 style=font-size:2rem;color:black;> Šta je Bar kod ?</h1>"
   ]
  },
  {
   "cell_type": "markdown",
   "id": "243a7d8d-b884-423d-bdc6-079fa66a63ed",
   "metadata": {},
   "source": [
    "## Bar kod je metoda za vizuelnu reprezentaciju podataka koja se koristi za brzo i precizno skeniranje informacija. Bar kodovi su široko primenjeni u maloprodaji, logistici, proizvodnji i mnogim drugim industrijama. Tradicionalno, bar kodovi se sastoje od niza paralelnih linija različite širine i razmaka između njih, koje predstavljaju numeričke ili alfanumeričke podatke.\n",
    "\n",
    "## Vrste bar kodova\n",
    "\n",
    "## Postoje dve glavne kategorije bar kodova: jednodimenzionalni (1D) i dvodimenzionalni (2D) bar kodovi.\n",
    "\n",
    "## Jednodimenzionalni (1D) bar kodovi\n",
    "## 1D bar kodovi, poznati i kao linijski bar kodovi, su najstariji i najčešće korišćeni tip bar kodova. Oni se sastoje od niza crnih i bijelih linija različite širine. Svaka linija i razmak između linija predstavljaju različite brojeve i slova. Ovi bar kodovi obično sadrže ograničenu količinu informacija, obično do 20-25 karaktera.\n",
    "\n",
    "## Primjeri 1D bar kodova:\n",
    "## UPC (Universal Product Code): Najčešće se koristi u maloprodaji za označavanje proizvoda.\n",
    "## Code 39: Koristi se u vojsci i industriji za označavanje inventara.\n",
    "## EAN (European Article Number): Koristi se za označavanje proizvoda u maloprodaji širom sveta.\n",
    "\n",
    "## Dvodimenzionalni (2D) bar kodovi\n",
    "## 2D bar kodovi koriste kombinaciju crnih i belih kvadrata ili tačaka za predstavljanje podataka, što omogućava pohranu mnogo većeg broja informacija u manjem prostoru u poređenju sa 1D bar kodovima. Ovi kodovi mogu sadržavati stotine ili čak hiljade karaktera informacija.\n",
    "\n",
    "## Primjeri 2D bar kodova:\n",
    "\n",
    "## QR kod (Quick Response): Može pohraniti velike količine informacija, uključujući URL-ove, tekst, kontakt informacije i mnogo više.\n",
    "## Data Matrix: Koristi se u proizvodnji i logistici za označavanje malih komponenti zbog svoje kompaktne veličine.\n",
    "## PDF417: Koristi se u logistici, transportu i na ličnim dokumentima zbog svoje sposobnosti da pohranjuje velike količine podataka.\n"
   ]
  },
  {
   "cell_type": "markdown",
   "id": "478d393b-c07a-44c5-800c-716a6f7e66ed",
   "metadata": {},
   "source": [
    "## QR kodovi (Quick Response kodovi) su vrsta dvodimenzionalnih bar kodova koji mogu sadržavati mnogo više informacija u poređenju sa tradicionalnim linijskim bar kodovima. QR kodovi su razvijeni u Japanu 1994. godine od strane Denso Wave, podružnice kompanije Toyota. Oni su dizajnirani da brzo dekodiraju sadržaj i mogu se skenirati iz različitih uglova, što ih čini veoma pogodnim za upotrebu u različitim situacijama.\n",
    "\n",
    "## Karakteristike QR kodova: \n",
    "## QR kodovi mogu sadržavati do 4296 alfanumeričkih karaktera ili 7089 numeričkih karaktera. Dizajnirani su za brzo dekodiranje sadržaja, čak i kada su djelimično oštećeni. QR kodovi imaju ugrađene mehanizme za ispravljanje grešaka. Mogu se koristiti za kodiranje različitih tipova podataka, uključujući URL-ove, tekst, kontakt informacije i još mnogo toga. QR kodovi su izuzetno korisni i nalaze primenu u mnogim oblastima kao što su marketing, plaćanje, logistika i zdravstvo.\n",
    "\n"
   ]
  },
  {
   "cell_type": "markdown",
   "id": "344a9e74-741d-42cb-bcc6-bbcac916494a",
   "metadata": {},
   "source": [
    "<img src=https://images.squarespace-cdn.com/content/v1/565c5822e4b0f33a7ae770e9/1528194199267-9F3F77N56CBNUWCRLVEI/EAN128+1D+Barcode.png>"
   ]
  },
  {
   "cell_type": "markdown",
   "id": "80f743dd-db54-4ffa-a236-30d8f4a85ed9",
   "metadata": {},
   "source": [
    "<img src=https://www.camcode.com/wp-content/uploads/2012/01/2d-barcodes-1135x675.jpg>"
   ]
  },
  {
   "cell_type": "markdown",
   "id": "3fc16dc6-dd55-4434-9c31-828a53447e2f",
   "metadata": {},
   "source": [
    "<h1 style=font-size:2rem;color:black;> Podešavanje i instalacija</h1>"
   ]
  },
  {
   "cell_type": "markdown",
   "id": "7a52ba0f-8877-48d0-8d3d-221d5acd6f86",
   "metadata": {},
   "source": [
    "## Za programski jezik je odabran Python, zbog svoje jednostavnosti i velikog broja dostupnih biblioteka, koje olakšavaju implementaciju. Okruženje koje je korišteno za projekat je Visual Studio Code. Nakon što se preuzmu VSCode i Python, potrebno je napraviti projektni folder i virtuelno okruženje.\n",
    "\n"
   ]
  },
  {
   "cell_type": "markdown",
   "id": "3fda74dd-6e47-4c0d-bdb7-c256684a18ca",
   "metadata": {},
   "source": [
    "mkdir projekat\n",
    "cd projekat\n",
    "pip install virtualenv\n",
    "virtual env venv\n"
   ]
  },
  {
   "cell_type": "markdown",
   "id": "c18421b7-1eab-4bfc-b56e-b5f0d46f6614",
   "metadata": {},
   "source": [
    "## Sljedeći korak je instalacija potrebnih biblioteka. Za prvi dio su potrebne opencv i pyzbar. Instalacija se vrši pomoću sljedećih komandi:"
   ]
  },
  {
   "cell_type": "code",
   "execution_count": null,
   "id": "dddefe4c-c516-4b3e-a888-fe721821e4ce",
   "metadata": {},
   "outputs": [],
   "source": [
    "pip install"
   ]
  },
  {
   "cell_type": "markdown",
   "id": "39b643b0-4274-45fd-9f42-01fec15fba5b",
   "metadata": {},
   "source": [
    "<h1 style=font-size:2rem;color:black;> Realizacija projekta</h1>"
   ]
  },
  {
   "cell_type": "markdown",
   "id": "f732bd10-941b-4ea3-ac41-25b6e567d3fb",
   "metadata": {},
   "source": [
    "## Prvi dio programa radi na način da se putem učitane slike prepozna kod i isti se spremi u txt fajl gdje se ispisuju osnovni podaci o kodu."
   ]
  },
  {
   "cell_type": "code",
   "execution_count": null,
   "id": "5bb81fda-d604-4f34-98e6-3f072e34122d",
   "metadata": {},
   "outputs": [],
   "source": [
    "pip install opencv-python\n",
    "pip install pyzbar"
   ]
  },
  {
   "cell_type": "markdown",
   "id": "9a02bb1a-19af-485e-8e6c-519672627129",
   "metadata": {},
   "source": [
    "## Nakon što se završi instalacija potrebno je importovati prethodno instalirane biblioteke."
   ]
  },
  {
   "cell_type": "code",
   "execution_count": null,
   "id": "4a17ed15-7672-4891-abe3-909825e09824",
   "metadata": {},
   "outputs": [],
   "source": [
    "import cv2\n",
    "from pyzbar.pyzbar import decode"
   ]
  },
  {
   "cell_type": "markdown",
   "id": "04700816-ff3e-4a26-9d7b-9cf1acd403e1",
   "metadata": {},
   "source": [
    "## Sljedeći korak je učitavanje slike:"
   ]
  },
  {
   "cell_type": "code",
   "execution_count": null,
   "id": "ce6efb45-68a7-485f-8ea3-afca00b015eb",
   "metadata": {},
   "outputs": [],
   "source": [
    "# ucitavanje fajla\n",
    "img = cv2.imread('kod.png')"
   ]
  },
  {
   "cell_type": "markdown",
   "id": "63af8b5a-c8ba-4d82-abf0-24dc1e9a8614",
   "metadata": {},
   "source": [
    "## Nakon toga se vrši dekodiranje i spremanje učitane slike u txt fajl"
   ]
  },
  {
   "cell_type": "code",
   "execution_count": null,
   "id": "7a96713b-b9fc-4de8-8579-2266eee70621",
   "metadata": {},
   "outputs": [],
   "source": [
    "# spremanje skeniranog koda u txt fajl\n",
    "with open('scanned_codes.txt', 'w') as file:\n",
    "    # Dekodiranje koda sa slike\n",
    "    for code in decode(img):\n",
    "        code_type = code.type\n",
    "        code_data = code.data.decode('utf-8')"
   ]
  },
  {
   "cell_type": "markdown",
   "id": "70db7a4b-acec-4dcf-ac91-88dd99b1f285",
   "metadata": {},
   "source": [
    "## Sada se vrši ispis podataka sa učitane slike (vrsta koda i link web adrese)"
   ]
  },
  {
   "cell_type": "code",
   "execution_count": null,
   "id": "3d435da4-ebcd-4b31-a10e-d51a2b396b32",
   "metadata": {},
   "outputs": [],
   "source": [
    " # Ispis koda\n",
    "print(\"Type:\", code_type)\n",
    "print(\"Data:\", code_data)\n",
    "\n",
    "file.write(f\"Type: {code_type}\\n\")\n",
    "file.write(f\"Data: {code_data}\\n\\n\")"
   ]
  },
  {
   "cell_type": "markdown",
   "id": "471c95f3-d72b-4adf-8993-069f09b8e221",
   "metadata": {},
   "source": [
    "## Sljedeći korak je implementacija Bar kod skenera. \n",
    "## Putem kamere će se skenirati kod koji se zatim sprema u folder sa svim skeniram kodovima, a podaci tog koda se spremaju u txt fajl.\n",
    "## Prije toga će se instalirati dvije dodatne biblioteke."
   ]
  },
  {
   "cell_type": "code",
   "execution_count": null,
   "id": "4078c33a-6f6f-46b6-a0fb-4df821274a23",
   "metadata": {},
   "outputs": [],
   "source": [
    "pip install os-sys\n",
    "pip install pygame"
   ]
  },
  {
   "cell_type": "markdown",
   "id": "d3fac8bd-410e-486c-8d01-f5e726ae00ee",
   "metadata": {},
   "source": [
    "## Odrađen je import:"
   ]
  },
  {
   "cell_type": "code",
   "execution_count": null,
   "id": "94d374cd-84f7-4cc2-aad9-000d88552694",
   "metadata": {},
   "outputs": [],
   "source": [
    "import cv2\n",
    "from pyzbar.pyzbar import decode\n",
    "from datetime import datetime\n",
    "import os\n",
    "import pygame"
   ]
  },
  {
   "cell_type": "markdown",
   "id": "8d46c7fb-34ee-468d-8a07-0ac6f4a57c74",
   "metadata": {},
   "source": [
    "## Također, kako bi znali da je naš kod skeniran ubačen je mp3 fajl koji dodaje zvučni efekat. To se odradi na sljedeći način:"
   ]
  },
  {
   "cell_type": "code",
   "execution_count": null,
   "id": "f33a9739-d77f-46cd-8ed7-7d2e93f47733",
   "metadata": {},
   "outputs": [],
   "source": [
    "def play_beep(mp3_file):\n",
    "    try:\n",
    "        pygame.mixer.init()\n",
    "        pygame.mixer.music.load(mp3_file)\n",
    "        pygame.mixer.music.play()\n",
    "        while pygame.mixer.music.get_busy():\n",
    "            pygame.time.Clock().tick(10)\n",
    "    except Exception as e:\n",
    "        print(f\"Error: {e}\")"
   ]
  },
  {
   "cell_type": "markdown",
   "id": "901c75d6-d225-4e7b-acb4-f34f1d6836c2",
   "metadata": {},
   "source": [
    "## Zatim je potrebno izvršiti inicijalizaciju kamere"
   ]
  },
  {
   "cell_type": "code",
   "execution_count": null,
   "id": "54567050-b4e0-436d-b05f-c5e2cc0d05a4",
   "metadata": {},
   "outputs": [],
   "source": [
    "# Inicijalizacija web kamere\n",
    "cap = cv2.VideoCapture(0)\n",
    "cap.set(3, 640)  # sirina\n",
    "cap.set(4, 480)  # visina"
   ]
  },
  {
   "cell_type": "markdown",
   "id": "7002e8df-7708-4f79-9626-a50b5c2d5f98",
   "metadata": {},
   "source": [
    "## Sve slike (spremljeni kodovi) će biti spremljene u jedan folder"
   ]
  },
  {
   "cell_type": "code",
   "execution_count": null,
   "id": "36357928-c9e3-4776-9dc0-8db5634b7c4a",
   "metadata": {},
   "outputs": [],
   "source": [
    "# kreiranje foldera sa spremljenim slikama kodova\n",
    "folder_name = 'scanned_images'\n",
    "if not os.path.exists(folder_name):\n",
    "    os.makedirs(folder_name)"
   ]
  },
  {
   "cell_type": "code",
   "execution_count": null,
   "id": "4f46884a-def9-46dc-99ec-af523861b1d2",
   "metadata": {},
   "outputs": [],
   "source": [
    "# Set se koristi za praćenje kodova koji su duplikati\n",
    "scanned_codes = set()"
   ]
  },
  {
   "cell_type": "markdown",
   "id": "81f2eef8-767a-4259-8e3b-eb4a43cce479",
   "metadata": {},
   "source": [
    "## Svi podaci o kodovima će biti u txt fajlu, nakon što se izvrši skeniranje putem kamere"
   ]
  },
  {
   "cell_type": "code",
   "execution_count": null,
   "id": "5c722b89-a91c-4318-8177-564a765c047a",
   "metadata": {},
   "outputs": [],
   "source": [
    "# Otvaranje txt fajla za spremanje dekodiranih podataka\n",
    "with open('scanned_codes.txt', 'a') as file:  \n",
    "    camera = True\n",
    "    while camera:\n",
    "        success, frame = cap.read()  # spremi frame iz kamere\n",
    "\n",
    "        if success:\n",
    "            ## Privremeni skup za praćenje kodova otkrivenih u trenutnom frame-u\n",
    "            detected_codes = set()"
   ]
  },
  {
   "cell_type": "markdown",
   "id": "190d92ff-287b-49c3-932d-d7e7ee393686",
   "metadata": {},
   "source": [
    "## Kao što je već navedeno potrebno je uzeti frame:"
   ]
  },
  {
   "cell_type": "code",
   "execution_count": null,
   "id": "cd6b7a1d-68e0-46c6-a216-4136a5a24a1d",
   "metadata": {},
   "outputs": [],
   "source": [
    "            for code in decode(frame):\n",
    "                code_type = code.type\n",
    "                code_data = code.data.decode('utf-8')"
   ]
  },
  {
   "cell_type": "markdown",
   "id": "5d07a797-9758-40ec-a40c-7a2e9f8ca4b5",
   "metadata": {},
   "source": [
    "## Provjera da li kod već postoji:"
   ]
  },
  {
   "cell_type": "code",
   "execution_count": null,
   "id": "948bd5de-3f96-4d9a-99a0-63703643f936",
   "metadata": {},
   "outputs": [],
   "source": [
    "                # Provjeri da li je kod već procesuiran u ovom frame-u\n",
    "                if code_data not in detected_codes:\n",
    "                    detected_codes.add(code_data)\n",
    "                    \n",
    "                    # Provjeri da li je kod već procesuiran ranije\n",
    "                    if code_data not in scanned_codes:\n",
    "                        scanned_codes.add(code_data)"
   ]
  },
  {
   "cell_type": "markdown",
   "id": "20b97f86-4a2b-4fef-abe9-5b1fdea2c828",
   "metadata": {},
   "source": [
    "## Uzima se timestamp, sprema se slika te se podaci upisuju:"
   ]
  },
  {
   "cell_type": "code",
   "execution_count": null,
   "id": "dd6e1e6d-6e7e-48c8-96f2-268c08ee8d2f",
   "metadata": {},
   "outputs": [],
   "source": [
    "                        # Uzmi timestamp\n",
    "                        timestamp = datetime.now().strftime('%Y%m%d_%H%M%S')\n",
    "\n",
    "                        # Spremi sliku sa qr kodom\n",
    "                        image_name = os.path.join(folder_name, f'scanned_image_{timestamp}.png')\n",
    "                        cv2.imwrite(image_name, frame)\n",
    "\n",
    "                        # upis podataka\n",
    "                        file.write(f\"Type: {code_type}\\n\")\n",
    "                        file.write(f\"Data: {code_data}\\n\")\n",
    "                        file.write(f\"Timestamp: {timestamp}\\n\")\n",
    "                        file.write(f\"Image: {image_name}\\n\\n\")"
   ]
  },
  {
   "cell_type": "markdown",
   "id": "9e94c7b4-c265-4355-ace6-70d514b08ca5",
   "metadata": {},
   "source": [
    "## Feedback za korisnika"
   ]
  },
  {
   "cell_type": "code",
   "execution_count": null,
   "id": "1de29375-21b2-44ee-98a8-8a4a3e37ebaa",
   "metadata": {},
   "outputs": [],
   "source": [
    "                        # funkcija za zvuk\n",
    "                        play_beep('beep.mp3')\n",
    "\n",
    "                        # feedback\n",
    "                        cv2.putText(frame, 'QR Code Scanned!', (50, 50), cv2.FONT_HERSHEY_SIMPLEX, 1, (0, 255, 0), 2)\n",
    "            cv2.imshow('Testing-code-scan', frame)"
   ]
  },
  {
   "cell_type": "markdown",
   "id": "af95eba8-b125-4e32-a888-9fe9ac943073",
   "metadata": {},
   "source": [
    "## Pritiskom na tipku q gasi se program i zatvaraju se svi prozori:"
   ]
  },
  {
   "cell_type": "code",
   "execution_count": null,
   "id": "9a268275-4823-4548-87ad-ba74e7f02520",
   "metadata": {},
   "outputs": [],
   "source": [
    "        # izadji pritiskom na tipku q\n",
    "        if cv2.waitKey(1) & 0xFF == ord('q'):\n",
    "            camera = False\n",
    "\n",
    "# zatvaranje prozora\n",
    "cap.release()\n",
    "cv2.destroyAllWindows()"
   ]
  },
  {
   "cell_type": "markdown",
   "id": "f26c959d-2ef8-4cdd-91be-0ee3d87c86b6",
   "metadata": {},
   "source": [
    "<h1 style=font-size:2rem;color:black;> Zaključak</h1>"
   ]
  },
  {
   "cell_type": "markdown",
   "id": "12ff2dce-e853-4de9-a565-e716617580fa",
   "metadata": {},
   "source": [
    "## Program za skeniranje QR i bar kodova efikasno prepoznaje i interpretira različite tipove kodova iz video ili statičnih slika. Korištenjem algoritama za detekciju i dekodiranje, program može precizno identifikovati kodove čak i u nepovoljnim uslovima osvetljenja.\n",
    "\n",
    "## Osnovne funkcionalnosti programa uključuju:\n",
    "## Visoka tačnost\n",
    "## Praćenje kodova\n",
    "## Fleksibilnost\n"
   ]
  },
  {
   "cell_type": "code",
   "execution_count": null,
   "id": "dfbfc910-b592-4b81-8ec3-a9f4896ba0c5",
   "metadata": {},
   "outputs": [],
   "source": []
  }
 ],
 "metadata": {
  "kernelspec": {
   "display_name": "Python 3 (ipykernel)",
   "language": "python",
   "name": "python3"
  },
  "language_info": {
   "codemirror_mode": {
    "name": "ipython",
    "version": 3
   },
   "file_extension": ".py",
   "mimetype": "text/x-python",
   "name": "python",
   "nbconvert_exporter": "python",
   "pygments_lexer": "ipython3",
   "version": "3.12.3"
  }
 },
 "nbformat": 4,
 "nbformat_minor": 5
}
